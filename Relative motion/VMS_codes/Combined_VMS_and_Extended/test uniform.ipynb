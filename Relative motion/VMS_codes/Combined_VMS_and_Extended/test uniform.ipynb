{
 "cells": [
  {
   "cell_type": "code",
   "execution_count": 6,
   "metadata": {},
   "outputs": [
    {
     "name": "stdout",
     "output_type": "stream",
     "text": [
      "Integration successful.\n",
      "Final time: 99.0\n",
      "[[ 0.00000000e+00 -2.99984887e-04 -5.99939097e-04 ... -1.53203565e-02\n",
      "  -1.52254058e-02 -1.51302427e-02]\n",
      " [ 2.00000000e-01  1.99989775e-01  1.99979099e-01 ... -1.31638393e-02\n",
      "  -1.31220046e-02 -1.30795926e-02]\n",
      " [ 3.00000000e-01  3.00000000e-01  3.00000000e-01 ...  3.00000000e-01\n",
      "   3.00000000e-01  3.00000000e-01]]\n"
     ]
    }
   ],
   "source": [
    "import numpy as np\n",
    "from scipy.integrate import solve_ivp\n",
    "import matplotlib.pyplot as plt\n",
    "from matplotlib.animation import FuncAnimation\n",
    "\n",
    "# Define the global physical parameters for the variable mass system\n",
    "rho_ini = 1020\n",
    "rho_exhaust = 0.002 * rho_ini\n",
    "L = 1  # m\n",
    "h = L / 2  # m\n",
    "R = L  # m\n",
    "u = 5  # m/s\n",
    "m_dot = -rho_exhaust * u * np.pi * R**2\n",
    "w0 = 0.2  # rad/s\n",
    "\n",
    "# Initial angular rates\n",
    "w10 = 0  # rad/s\n",
    "w20 = w0  # rad/s\n",
    "w30 = 0.3  # rad/s\n",
    "\n",
    "# Initial mass properties\n",
    "mf0 = np.pi * R**2 * L * rho_ini  # kg\n",
    "I10 = mf0 * (R**2 / 4 + h**2 / 3)  # kg*m^2\n",
    "I30 = mf0 * R**2 / 2  # kg*m^2\n",
    "chi0 = 0  # Initial precession angle\n",
    "Fd0 = 0  # Initial F value\n",
    "tb = -mf0 / m_dot - 1  # Burn time\n",
    "\n",
    "# Quaternion initial conditions (representing no initial rotation)\n",
    "q0 = [1, 0, 0, 0]  # (w, x, y, z)\n",
    "\n",
    "# Combine initial conditions\n",
    "Y0 = [mf0, I10, I30, w10, w20, w30, chi0, Fd0] + q0\n",
    "\n",
    "# Define the differential equations\n",
    "def uniburn(t, w):\n",
    "    m, I1, I3, w1, w2, w3, chi, F, qw, qx, qy, qz = w\n",
    "    # Mass varying terms\n",
    "    md = -rho_exhaust * np.pi * R**2 * u  # mass\n",
    "    I1d = md * (R**2 / 4 + h**2 / 3)  # transverse moment of inertia\n",
    "    I3d = md * R**2 / 2  # spin moment of inertia\n",
    "    # Equations of motion for the axisymmetric cylinder undergoing uniform burn\n",
    "    w1d = (I1 - I3) * w2 * w3 / I1 - (I1d - md * (h**2 + R**2 / 4)) * w1 / I1\n",
    "    w2d = -(I1 - I3) * w1 * w3 / I1 - (I1d - md * (h**2 + R**2 / 4)) * w2 / I1\n",
    "    w3d = -(I3d - md * R**2 / 2) * w3\n",
    "    chid = (1 - I3 / I1) * w3\n",
    "    Fd = -(I1d - md * (h**2 + R**2 / 4)) / I1\n",
    "    # Quaternion derivative\n",
    "    omega_quat = np.array([0, w1, w2, w3])\n",
    "    quat = np.array([qw, qx, qy, qz])\n",
    "    quat_dot = 0.5 * np.array(quat_mult(quat, omega_quat))\n",
    "    wd = [md, I1d, I3d, w1d, w2d, w3d, chid, Fd, quat_dot[0], quat_dot[1], quat_dot[2], quat_dot[3]]\n",
    "    return wd\n",
    "\n",
    "# Function to multiply two quaternions\n",
    "def quat_mult(q, r):\n",
    "    w1, x1, y1, z1 = q\n",
    "    w2, x2, y2, z2 = r\n",
    "    return [\n",
    "        w1*w2 - x1*x2 - y1*y2 - z1*z2,\n",
    "        w1*x2 + x1*w2 + y1*z2 - z1*y2,\n",
    "        w1*y2 - x1*z2 + y1*w2 + z1*x2,\n",
    "        w1*z2 + x1*y2 - y1*x2 + z1*w2\n",
    "    ]\n",
    "\n",
    "# Time span for the simulation\n",
    "dt = 0.01\n",
    "t_eval = np.arange(0, tb, dt)\n",
    "\n",
    "# Solve the ODEs\n",
    "sol = solve_ivp(uniburn, [0, tb], Y0, t_eval=t_eval, atol=1e-9, rtol=1e-8)\n",
    "\n",
    "# Check if the integration was successful\n",
    "if sol.status == 0:\n",
    "    print(\"Integration successful.\")\n",
    "else:\n",
    "    print(f\"Integration failed with status {sol.status}: {sol.message}\")\n",
    "\n",
    "# Print the final time to check if it reached the end of the burn time\n",
    "print(f\"Final time: {sol.t[-1]}\")\n",
    "\n",
    "# Extract results\n",
    "t = sol.t\n",
    "m = sol.y[0]\n",
    "I1 = sol.y[1]\n",
    "I3 = sol.y[2]\n",
    "omega1 = sol.y[3]\n",
    "omega2 = sol.y[4]\n",
    "omega3 = sol.y[5]\n",
    "chi = sol.y[6]\n",
    "F = sol.y[7]\n",
    "qw, qx, qy, qz = sol.y[8], sol.y[9], sol.y[10], sol.y[11]\n",
    "\n",
    "\n",
    "# Function to convert quaternion to Euler angles (Z-X-Z sequence)\n",
    "def quat_to_euler_zxz(q):\n",
    "    \"\"\"\n",
    "    Convert a quaternion to Euler angles (Z-X-Z sequence).\n",
    "    \"\"\"\n",
    "    w, x, y, z = q\n",
    "    # Compute the Euler angles\n",
    "    psi = np.arctan2(2*(w*z + x*y), 1 - 2*(y**2 + z**2))\n",
    "    theta = np.arccos(2*(w*y - z*x))\n",
    "    phi = np.arctan2(2*(w*z + y*x), 1 - 2*(x**2 + y**2))\n",
    "    return psi, theta, phi\n",
    "\n",
    "# Extract Euler angles from quaternions\n",
    "psi, theta, phi = np.zeros(len(qw)), np.zeros(len(qw)), np.zeros(len(qw))\n",
    "for i in range(len(qw)):\n",
    "    psi[i], theta[i], phi[i] = quat_to_euler_zxz([qw[i], qx[i], qy[i], qz[i]])\n",
    "\n",
    "\n",
    "\n"
   ]
  },
  {
   "cell_type": "code",
   "execution_count": 8,
   "metadata": {},
   "outputs": [
    {
     "name": "stdout",
     "output_type": "stream",
     "text": [
      "Data successfully written to results.csv\n"
     ]
    }
   ],
   "source": [
    "import csv\n",
    "\n",
    "# Define the output file name\n",
    "output_file = 'results.csv'\n",
    "\n",
    "# Open the file in write mode\n",
    "with open(output_file, mode='w', newline='') as file:\n",
    "    writer = csv.writer(file)\n",
    "    \n",
    "    # Write the header\n",
    "    writer.writerow(['t', 'omega1', 'omega2', 'omega3'])\n",
    "    \n",
    "    # Write the data\n",
    "    for i in range(len(t)):\n",
    "        writer.writerow([t[i], omega1[i], omega2[i], omega3[i]])\n",
    "\n",
    "print(f\"Data successfully written to {output_file}\")"
   ]
  },
  {
   "cell_type": "code",
   "execution_count": 24,
   "metadata": {},
   "outputs": [
    {
     "data": {
      "application/vnd.plotly.v1+json": {
       "config": {
        "plotlyServerURL": "https://plot.ly"
       },
       "data": [
        {
         "line": {
          "color": "#f7fbff",
          "width": 5
         },
         "marker": {
          "color": "#f7fbff",
          "size": 5
         },
         "mode": "lines+markers",
         "type": "scatter3d",
         "x": [
          0,
          0
         ],
         "y": [
          0,
          0.2
         ],
         "z": [
          0,
          0.3
         ]
        },
        {
         "line": {
          "color": "#f5fafe",
          "width": 5
         },
         "marker": {
          "color": "#f5fafe",
          "size": 5
         },
         "mode": "lines+markers",
         "type": "scatter3d",
         "x": [
          0,
          -0.0297378129241858
         ],
         "y": [
          0,
          0.1967629601291732
         ],
         "z": [
          0,
          0.3
         ]
        },
        {
         "line": {
          "color": "#f3f8fe",
          "width": 5
         },
         "marker": {
          "color": "#f3f8fe",
          "size": 5
         },
         "mode": "lines+markers",
         "type": "scatter3d",
         "x": [
          0,
          -0.0585100158796788
         ],
         "y": [
          0,
          0.1891469746868391
         ],
         "z": [
          0,
          0.3
         ]
        },
        {
         "line": {
          "color": "#f2f7fd",
          "width": 5
         },
         "marker": {
          "color": "#f2f7fd",
          "size": 5
         },
         "mode": "lines+markers",
         "type": "scatter3d",
         "x": [
          0,
          -0.0856782739546785
         ],
         "y": [
          0,
          0.1773675093123103
         ],
         "z": [
          0,
          0.3
         ]
        },
        {
         "line": {
          "color": "#eff6fc",
          "width": 5
         },
         "marker": {
          "color": "#eff6fc",
          "size": 5
         },
         "mode": "lines+markers",
         "type": "scatter3d",
         "x": [
          0,
          -0.1106468757913741
         ],
         "y": [
          0,
          0.1617320897667865
         ],
         "z": [
          0,
          0.3
         ]
        },
        {
         "line": {
          "color": "#eef5fc",
          "width": 5
         },
         "marker": {
          "color": "#eef5fc",
          "size": 5
         },
         "mode": "lines+markers",
         "type": "scatter3d",
         "x": [
          0,
          -0.132875856235476
         ],
         "y": [
          0,
          0.1426324184976317
         ],
         "z": [
          0,
          0.3
         ]
        },
        {
         "line": {
          "color": "#ebf3fb",
          "width": 5
         },
         "marker": {
          "color": "#ebf3fb",
          "size": 5
         },
         "mode": "lines+markers",
         "type": "scatter3d",
         "x": [
          0,
          -0.1518927232460432
         ],
         "y": [
          0,
          0.1205346447906489
         ],
         "z": [
          0,
          0.3
         ]
        },
        {
         "line": {
          "color": "#eaf2fb",
          "width": 5
         },
         "marker": {
          "color": "#eaf2fb",
          "size": 5
         },
         "mode": "lines+markers",
         "type": "scatter3d",
         "x": [
          0,
          -0.1673025329483838
         ],
         "y": [
          0,
          0.0959680281722116
         ],
         "z": [
          0,
          0.3
         ]
        },
        {
         "line": {
          "color": "#e7f1fa",
          "width": 5
         },
         "marker": {
          "color": "#e7f1fa",
          "size": 5
         },
         "mode": "lines+markers",
         "type": "scatter3d",
         "x": [
          0,
          -0.1787960970940497
         ],
         "y": [
          0,
          0.0695122695534773
         ],
         "z": [
          0,
          0.3
         ]
        },
        {
         "line": {
          "color": "#e5eff9",
          "width": 5
         },
         "marker": {
          "color": "#e5eff9",
          "size": 5
         },
         "mode": "lines+markers",
         "type": "scatter3d",
         "x": [
          0,
          -0.1861561520266272
         ],
         "y": [
          0,
          0.0417838127924919
         ],
         "z": [
          0,
          0.3
         ]
        },
        {
         "line": {
          "color": "#e3eef9",
          "width": 5
         },
         "marker": {
          "color": "#e3eef9",
          "size": 5
         },
         "mode": "lines+markers",
         "type": "scatter3d",
         "x": [
          0,
          -0.189261366590015
         ],
         "y": [
          0,
          0.0134214403532038
         ],
         "z": [
          0,
          0.3
         ]
        },
        {
         "line": {
          "color": "#e1edf8",
          "width": 5
         },
         "marker": {
          "color": "#e1edf8",
          "size": 5
         },
         "mode": "lines+markers",
         "type": "scatter3d",
         "x": [
          0,
          -0.1880881172265852
         ],
         "y": [
          0,
          -0.014928499466408
         ],
         "z": [
          0,
          0.3
         ]
        },
        {
         "line": {
          "color": "#dfecf7",
          "width": 5
         },
         "marker": {
          "color": "#dfecf7",
          "size": 5
         },
         "mode": "lines+markers",
         "type": "scatter3d",
         "x": [
          0,
          -0.1827100108369665
         ],
         "y": [
          0,
          -0.0426268914123074
         ],
         "z": [
          0,
          0.3
         ]
        },
        {
         "line": {
          "color": "#ddeaf7",
          "width": 5
         },
         "marker": {
          "color": "#ddeaf7",
          "size": 5
         },
         "mode": "lines+markers",
         "type": "scatter3d",
         "x": [
          0,
          -0.1732951875566844
         ],
         "y": [
          0,
          -0.0690563385553961
         ],
         "z": [
          0,
          0.3
         ]
        },
        {
         "line": {
          "color": "#dce9f6",
          "width": 5
         },
         "marker": {
          "color": "#dce9f6",
          "size": 5
         },
         "mode": "lines+markers",
         "type": "scatter3d",
         "x": [
          0,
          -0.1601014867773309
         ],
         "y": [
          0,
          -0.0936350033327699
         ],
         "z": [
          0,
          0.3
         ]
        },
        {
         "line": {
          "color": "#d9e8f5",
          "width": 5
         },
         "marker": {
          "color": "#d9e8f5",
          "size": 5
         },
         "mode": "lines+markers",
         "type": "scatter3d",
         "x": [
          0,
          -0.1434696083886535
         ],
         "y": [
          0,
          -0.1158294927020899
         ],
         "z": [
          0,
          0.3
         ]
        },
        {
         "line": {
          "color": "#d8e7f5",
          "width": 5
         },
         "marker": {
          "color": "#d8e7f5",
          "size": 5
         },
         "mode": "lines+markers",
         "type": "scatter3d",
         "x": [
          0,
          -0.1238144459269267
         ],
         "y": [
          0,
          -0.1351665005888659
         ],
         "z": [
          0,
          0.3
         ]
        },
        {
         "line": {
          "color": "#d6e5f4",
          "width": 5
         },
         "marker": {
          "color": "#d6e5f4",
          "size": 5
         },
         "mode": "lines+markers",
         "type": "scatter3d",
         "x": [
          0,
          -0.1016148090957296
         ],
         "y": [
          0,
          -0.1512429517918067
         ],
         "z": [
          0,
          0.3
         ]
        },
        {
         "line": {
          "color": "#d3e4f3",
          "width": 5
         },
         "marker": {
          "color": "#d3e4f3",
          "size": 5
         },
         "mode": "lines+markers",
         "type": "scatter3d",
         "x": [
          0,
          -0.0774017881673569
         ],
         "y": [
          0,
          -0.1637344285070006
         ],
         "z": [
          0,
          0.3
         ]
        },
        {
         "line": {
          "color": "#d2e3f3",
          "width": 5
         },
         "marker": {
          "color": "#d2e3f3",
          "size": 5
         },
         "mode": "lines+markers",
         "type": "scatter3d",
         "x": [
          0,
          -0.0517460421577813
         ],
         "y": [
          0,
          -0.1724017024507931
         ],
         "z": [
          0,
          0.3
         ]
        },
        {
         "line": {
          "color": "#d0e1f2",
          "width": 5
         },
         "marker": {
          "color": "#d0e1f2",
          "size": 5
         },
         "mode": "lines+markers",
         "type": "scatter3d",
         "x": [
          0,
          -0.0252443144286896
         ],
         "y": [
          0,
          -0.1770952412467779
         ],
         "z": [
          0,
          0.3
         ]
        },
        {
         "line": {
          "color": "#cee0f2",
          "width": 5
         },
         "marker": {
          "color": "#cee0f2",
          "size": 5
         },
         "mode": "lines+markers",
         "type": "scatter3d",
         "x": [
          0,
          0.0014945050260316
         ],
         "y": [
          0,
          -0.1777576055612698
         ],
         "z": [
          0,
          0.3
         ]
        },
        {
         "line": {
          "color": "#ccdff1",
          "width": 5
         },
         "marker": {
          "color": "#ccdff1",
          "size": 5
         },
         "mode": "lines+markers",
         "type": "scatter3d",
         "x": [
          0,
          0.0278634449330925
         ],
         "y": [
          0,
          -0.1744237034248979
         ],
         "z": [
          0,
          0.3
         ]
        },
        {
         "line": {
          "color": "#cadef0",
          "width": 5
         },
         "marker": {
          "color": "#cadef0",
          "size": 5
         },
         "mode": "lines+markers",
         "type": "scatter3d",
         "x": [
          0,
          0.0532713191721462
         ],
         "y": [
          0,
          -0.1672189176859386
         ],
         "z": [
          0,
          0.3
         ]
        },
        {
         "line": {
          "color": "#c8dcf0",
          "width": 5
         },
         "marker": {
          "color": "#c8dcf0",
          "size": 5
         },
         "mode": "lines+markers",
         "type": "scatter3d",
         "x": [
          0,
          0.0771560755548598
         ],
         "y": [
          0,
          -0.1563551722187903
         ],
         "z": [
          0,
          0.3
         ]
        },
        {
         "line": {
          "color": "#c6dbef",
          "width": 5
         },
         "marker": {
          "color": "#c6dbef",
          "size": 5
         },
         "mode": "lines+markers",
         "type": "scatter3d",
         "x": [
          0,
          0.0989973242229227
         ],
         "y": [
          0,
          -0.1421250493910454
         ],
         "z": [
          0,
          0.3
         ]
        },
        {
         "line": {
          "color": "#c3daee",
          "width": 5
         },
         "marker": {
          "color": "#c3daee",
          "size": 5
         },
         "mode": "lines+markers",
         "type": "scatter3d",
         "x": [
          0,
          0.1183277639839776
         ],
         "y": [
          0,
          -0.1248941156613814
         ],
         "z": [
          0,
          0.3
         ]
        },
        {
         "line": {
          "color": "#bfd8ed",
          "width": 5
         },
         "marker": {
          "color": "#bfd8ed",
          "size": 5
         },
         "mode": "lines+markers",
         "type": "scatter3d",
         "x": [
          0,
          0.134743254252122
         ],
         "y": [
          0,
          -0.1050916518277461
         ],
         "z": [
          0,
          0.3
         ]
        },
        {
         "line": {
          "color": "#bdd7ec",
          "width": 5
         },
         "marker": {
          "color": "#bdd7ec",
          "size": 5
         },
         "mode": "lines+markers",
         "type": "scatter3d",
         "x": [
          0,
          0.1479113129891383
         ],
         "y": [
          0,
          -0.0832000200609747
         ],
         "z": [
          0,
          0.3
         ]
        },
        {
         "line": {
          "color": "#b9d6ea",
          "width": 5
         },
         "marker": {
          "color": "#b9d6ea",
          "size": 5
         },
         "mode": "lines+markers",
         "type": "scatter3d",
         "x": [
          0,
          0.1575778608640802
         ],
         "y": [
          0,
          -0.0597429294155201
         ],
         "z": [
          0,
          0.3
         ]
        },
        {
         "line": {
          "color": "#b7d4ea",
          "width": 5
         },
         "marker": {
          "color": "#b7d4ea",
          "size": 5
         },
         "mode": "lines+markers",
         "type": "scatter3d",
         "x": [
          0,
          0.1635720743892394
         ],
         "y": [
          0,
          -0.0352728837527568
         ],
         "z": [
          0,
          0.3
         ]
        },
        {
         "line": {
          "color": "#b3d3e8",
          "width": 5
         },
         "marker": {
          "color": "#b3d3e8",
          "size": 5
         },
         "mode": "lines+markers",
         "type": "scatter3d",
         "x": [
          0,
          0.165809255882364
         ],
         "y": [
          0,
          -0.0103581131390993
         ],
         "z": [
          0,
          0.3
         ]
        },
        {
         "line": {
          "color": "#b0d2e7",
          "width": 5
         },
         "marker": {
          "color": "#b0d2e7",
          "size": 5
         },
         "mode": "lines+markers",
         "type": "scatter3d",
         "x": [
          0,
          0.164291675605133
         ],
         "y": [
          0,
          0.0144307020872274
         ],
         "z": [
          0,
          0.3
         ]
        },
        {
         "line": {
          "color": "#add0e6",
          "width": 5
         },
         "marker": {
          "color": "#add0e6",
          "size": 5
         },
         "mode": "lines+markers",
         "type": "scatter3d",
         "x": [
          0,
          0.1591073891113162
         ],
         "y": [
          0,
          0.038533602939306
         ],
         "z": [
          0,
          0.3
         ]
        },
        {
         "line": {
          "color": "#a9cfe5",
          "width": 5
         },
         "marker": {
          "color": "#a9cfe5",
          "size": 5
         },
         "mode": "lines+markers",
         "type": "scatter3d",
         "x": [
          0,
          0.1504270801690445
         ],
         "y": [
          0,
          0.0614141137889796
         ],
         "z": [
          0,
          0.3
         ]
        },
        {
         "line": {
          "color": "#a6cee4",
          "width": 5
         },
         "marker": {
          "color": "#a6cee4",
          "size": 5
         },
         "mode": "lines+markers",
         "type": "scatter3d",
         "x": [
          0,
          0.1384990250521791
         ],
         "y": [
          0,
          0.0825713017919049
         ],
         "z": [
          0,
          0.3
         ]
        },
        {
         "line": {
          "color": "#a3cce3",
          "width": 5
         },
         "marker": {
          "color": "#a3cce3",
          "size": 5
         },
         "mode": "lines+markers",
         "type": "scatter3d",
         "x": [
          0,
          0.1236423176080407
         ],
         "y": [
          0,
          0.1015508597348346
         ],
         "z": [
          0,
          0.3
         ]
        },
        {
         "line": {
          "color": "#a0cbe2",
          "width": 5
         },
         "marker": {
          "color": "#a0cbe2",
          "size": 5
         },
         "mode": "lines+markers",
         "type": "scatter3d",
         "x": [
          0,
          0.1062385334464349
         ],
         "y": [
          0,
          0.1179549652410305
         ],
         "z": [
          0,
          0.3
         ]
        },
        {
         "line": {
          "color": "#9cc9e1",
          "width": 5
         },
         "marker": {
          "color": "#9cc9e1",
          "size": 5
         },
         "mode": "lines+markers",
         "type": "scatter3d",
         "x": [
          0,
          0.0867220457003225
         ],
         "y": [
          0,
          0.1314507002734121
         ],
         "z": [
          0,
          0.3
         ]
        },
        {
         "line": {
          "color": "#99c7e0",
          "width": 5
         },
         "marker": {
          "color": "#99c7e0",
          "size": 5
         },
         "mode": "lines+markers",
         "type": "scatter3d",
         "x": [
          0,
          0.0655692354451177
         ],
         "y": [
          0,
          0.1417768499174495
         ],
         "z": [
          0,
          0.3
         ]
        },
        {
         "line": {
          "color": "#94c4df",
          "width": 5
         },
         "marker": {
          "color": "#94c4df",
          "size": 5
         },
         "mode": "lines+markers",
         "type": "scatter3d",
         "x": [
          0,
          0.0432868626995846
         ],
         "y": [
          0,
          0.1487489405846059
         ],
         "z": [
          0,
          0.3
         ]
        },
        {
         "line": {
          "color": "#91c3de",
          "width": 5
         },
         "marker": {
          "color": "#91c3de",
          "size": 5
         },
         "mode": "lines+markers",
         "type": "scatter3d",
         "x": [
          0,
          0.0203998801199959
         ],
         "y": [
          0,
          0.1522624205048354
         ],
         "z": [
          0,
          0.3
         ]
        },
        {
         "line": {
          "color": "#8cc0dd",
          "width": 5
         },
         "marker": {
          "color": "#8cc0dd",
          "size": 5
         },
         "mode": "lines+markers",
         "type": "scatter3d",
         "x": [
          0,
          -0.0025610169264617
         ],
         "y": [
          0,
          0.1522939296132588
         ],
         "z": [
          0,
          0.3
         ]
        },
        {
         "line": {
          "color": "#87bddc",
          "width": 5
         },
         "marker": {
          "color": "#87bddc",
          "size": 5
         },
         "mode": "lines+markers",
         "type": "scatter3d",
         "x": [
          0,
          -0.025071807977943
         ],
         "y": [
          0,
          0.1489006522757823
         ],
         "z": [
          0,
          0.3
         ]
        },
        {
         "line": {
          "color": "#84bcdb",
          "width": 5
         },
         "marker": {
          "color": "#84bcdb",
          "size": 5
         },
         "mode": "lines+markers",
         "type": "scatter3d",
         "x": [
          0,
          -0.046627241473106
         ],
         "y": [
          0,
          0.14221779127465
         ],
         "z": [
          0,
          0.3
         ]
        },
        {
         "line": {
          "color": "#7fb9da",
          "width": 5
         },
         "marker": {
          "color": "#7fb9da",
          "size": 5
         },
         "mode": "lines+markers",
         "type": "scatter3d",
         "x": [
          0,
          -0.0667523232007251
         ],
         "y": [
          0,
          0.1324542454919393
         ],
         "z": [
          0,
          0.3
         ]
        },
        {
         "line": {
          "color": "#7cb7da",
          "width": 5
         },
         "marker": {
          "color": "#7cb7da",
          "size": 5
         },
         "mode": "lines+markers",
         "type": "scatter3d",
         "x": [
          0,
          -0.0850129357166364
         ],
         "y": [
          0,
          0.1198866154393507
         ],
         "z": [
          0,
          0.3
         ]
        },
        {
         "line": {
          "color": "#77b5d9",
          "width": 5
         },
         "marker": {
          "color": "#77b5d9",
          "size": 5
         },
         "mode": "lines+markers",
         "type": "scatter3d",
         "x": [
          0,
          -0.1010253483611923
         ],
         "y": [
          0,
          0.1048516990257927
         ],
         "z": [
          0,
          0.3
         ]
        },
        {
         "line": {
          "color": "#74b3d8",
          "width": 5
         },
         "marker": {
          "color": "#74b3d8",
          "size": 5
         },
         "mode": "lines+markers",
         "type": "scatter3d",
         "x": [
          0,
          -0.1144644065408692
         ],
         "y": [
          0,
          0.0877376739822003
         ],
         "z": [
          0,
          0.3
         ]
        },
        {
         "line": {
          "color": "#6fb0d7",
          "width": 5
         },
         "marker": {
          "color": "#6fb0d7",
          "size": 5
         },
         "mode": "lines+markers",
         "type": "scatter3d",
         "x": [
          0,
          -0.1250702225843647
         ],
         "y": [
          0,
          0.0689741924404718
         ],
         "z": [
          0,
          0.3
         ]
        },
        {
         "line": {
          "color": "#6aaed6",
          "width": 5
         },
         "marker": {
          "color": "#6aaed6",
          "size": 5
         },
         "mode": "lines+markers",
         "type": "scatter3d",
         "x": [
          0,
          -0.1326532281723749
         ],
         "y": [
          0,
          0.0490216365887881
         ],
         "z": [
          0,
          0.3
         ]
        },
        {
         "line": {
          "color": "#68acd5",
          "width": 5
         },
         "marker": {
          "color": "#68acd5",
          "size": 5
         },
         "mode": "lines+markers",
         "type": "scatter3d",
         "x": [
          0,
          -0.1370974888493929
         ],
         "y": [
          0,
          0.0283598014493209
         ],
         "z": [
          0,
          0.3
         ]
        },
        {
         "line": {
          "color": "#64a9d3",
          "width": 5
         },
         "marker": {
          "color": "#64a9d3",
          "size": 5
         },
         "mode": "lines+markers",
         "type": "scatter3d",
         "x": [
          0,
          -0.1383622238316995
         ],
         "y": [
          0,
          0.0074762823097555
         ],
         "z": [
          0,
          0.3
         ]
        },
        {
         "line": {
          "color": "#61a7d2",
          "width": 5
         },
         "marker": {
          "color": "#61a7d2",
          "size": 5
         },
         "mode": "lines+markers",
         "type": "scatter3d",
         "x": [
          0,
          -0.1364815178023911
         ],
         "y": [
          0,
          -0.0131451544229298
         ],
         "z": [
          0,
          0.3
         ]
        },
        {
         "line": {
          "color": "#5da5d1",
          "width": 5
         },
         "marker": {
          "color": "#5da5d1",
          "size": 5
         },
         "mode": "lines+markers",
         "type": "scatter3d",
         "x": [
          0,
          -0.1315622540956281
         ],
         "y": [
          0,
          -0.0330359361312941
         ],
         "z": [
          0,
          0.3
         ]
        },
        {
         "line": {
          "color": "#5ba3d0",
          "width": 5
         },
         "marker": {
          "color": "#5ba3d0",
          "size": 5
         },
         "mode": "lines+markers",
         "type": "scatter3d",
         "x": [
          0,
          -0.123780343015896
         ],
         "y": [
          0,
          -0.051753516325719
         ],
         "z": [
          0,
          0.3
         ]
        },
        {
         "line": {
          "color": "#57a0ce",
          "width": 5
         },
         "marker": {
          "color": "#57a0ce",
          "size": 5
         },
         "mode": "lines+markers",
         "type": "scatter3d",
         "x": [
          0,
          -0.1133753562987768
         ],
         "y": [
          0,
          -0.0688914244238302
         ],
         "z": [
          0,
          0.3
         ]
        },
        {
         "line": {
          "color": "#549fcd",
          "width": 5
         },
         "marker": {
          "color": "#549fcd",
          "size": 5
         },
         "mode": "lines+markers",
         "type": "scatter3d",
         "x": [
          0,
          -0.100643717641649
         ],
         "y": [
          0,
          -0.0840882981071766
         ],
         "z": [
          0,
          0.3
         ]
        },
        {
         "line": {
          "color": "#519ccc",
          "width": 5
         },
         "marker": {
          "color": "#519ccc",
          "size": 5
         },
         "mode": "lines+markers",
         "type": "scatter3d",
         "x": [
          0,
          -0.0859306329562918
         ],
         "y": [
          0,
          -0.0970356949772429
         ],
         "z": [
          0,
          0.3
         ]
        },
        {
         "line": {
          "color": "#4d99ca",
          "width": 5
         },
         "marker": {
          "color": "#4d99ca",
          "size": 5
         },
         "mode": "lines+markers",
         "type": "scatter3d",
         "x": [
          0,
          -0.0696209701788185
         ],
         "y": [
          0,
          -0.1074845118779423
         ],
         "z": [
          0,
          0.3
         ]
        },
        {
         "line": {
          "color": "#4a98c9",
          "width": 5
         },
         "marker": {
          "color": "#4a98c9",
          "size": 5
         },
         "mode": "lines+markers",
         "type": "scatter3d",
         "x": [
          0,
          -0.0521293229665032
         ],
         "y": [
          0,
          -0.1152498740654127
         ],
         "z": [
          0,
          0.3
         ]
        },
        {
         "line": {
          "color": "#4695c8",
          "width": 5
         },
         "marker": {
          "color": "#4695c8",
          "size": 5
         },
         "mode": "lines+markers",
         "type": "scatter3d",
         "x": [
          0,
          -0.0338895099953089
         ],
         "y": [
          0,
          -0.1202143955541727
         ],
         "z": [
          0,
          0.3
         ]
        },
        {
         "line": {
          "color": "#4493c7",
          "width": 5
         },
         "marker": {
          "color": "#4493c7",
          "size": 5
         },
         "mode": "lines+markers",
         "type": "scatter3d",
         "x": [
          0,
          -0.0153437718125759
         ],
         "y": [
          0,
          -0.1223297529256496
         ],
         "z": [
          0,
          0.3
         ]
        },
        {
         "line": {
          "color": "#4090c5",
          "width": 5
         },
         "marker": {
          "color": "#4090c5",
          "size": 5
         },
         "mode": "lines+markers",
         "type": "scatter3d",
         "x": [
          0,
          0.003068068153838
         ],
         "y": [
          0,
          -0.1216165561710035
         ],
         "z": [
          0,
          0.3
         ]
        },
        {
         "line": {
          "color": "#3e8ec4",
          "width": 5
         },
         "marker": {
          "color": "#3e8ec4",
          "size": 5
         },
         "mode": "lines+markers",
         "type": "scatter3d",
         "x": [
          0,
          0.0209192135241344
         ],
         "y": [
          0,
          -0.1181625417968265
         ],
         "z": [
          0,
          0.3
         ]
        },
        {
         "line": {
          "color": "#3b8bc2",
          "width": 5
         },
         "marker": {
          "color": "#3b8bc2",
          "size": 5
         },
         "mode": "lines+markers",
         "type": "scatter3d",
         "x": [
          0,
          0.0378060203703046
         ],
         "y": [
          0,
          -0.1121191536343324
         ],
         "z": [
          0,
          0.3
         ]
        },
        {
         "line": {
          "color": "#3989c1",
          "width": 5
         },
         "marker": {
          "color": "#3989c1",
          "size": 5
         },
         "mode": "lines+markers",
         "type": "scatter3d",
         "x": [
          0,
          0.0533573952114867
         ],
         "y": [
          0,
          -0.103696615951826
         ],
         "z": [
          0,
          0.3
         ]
        },
        {
         "line": {
          "color": "#3686c0",
          "width": 5
         },
         "marker": {
          "color": "#3686c0",
          "size": 5
         },
         "mode": "lines+markers",
         "type": "scatter3d",
         "x": [
          0,
          0.0672432444369735
         ],
         "y": [
          0,
          -0.0931576398523328
         ],
         "z": [
          0,
          0.3
         ]
        },
        {
         "line": {
          "color": "#3383be",
          "width": 5
         },
         "marker": {
          "color": "#3383be",
          "size": 5
         },
         "mode": "lines+markers",
         "type": "scatter3d",
         "x": [
          0,
          0.0791817812653785
         ],
         "y": [
          0,
          -0.0808099332152796
         ],
         "z": [
          0,
          0.3
         ]
        },
        {
         "line": {
          "color": "#3181bd",
          "width": 5
         },
         "marker": {
          "color": "#3181bd",
          "size": 5
         },
         "mode": "lines+markers",
         "type": "scatter3d",
         "x": [
          0,
          0.0889455220038182
         ],
         "y": [
          0,
          -0.0669977156573763
         ],
         "z": [
          0,
          0.3
         ]
        },
        {
         "line": {
          "color": "#2e7ebc",
          "width": 5
         },
         "marker": {
          "color": "#2e7ebc",
          "size": 5
         },
         "mode": "lines+markers",
         "type": "scatter3d",
         "x": [
          0,
          0.0963658414070393
         ],
         "y": [
          0,
          -0.052092460117711
         ],
         "z": [
          0,
          0.3
         ]
        },
        {
         "line": {
          "color": "#2c7cba",
          "width": 5
         },
         "marker": {
          "color": "#2c7cba",
          "size": 5
         },
         "mode": "lines+markers",
         "type": "scatter3d",
         "x": [
          0,
          0.1013359921514786
         ],
         "y": [
          0,
          -0.0364830988005798
         ],
         "z": [
          0,
          0.3
         ]
        },
        {
         "line": {
          "color": "#2979b9",
          "width": 5
         },
         "marker": {
          "color": "#2979b9",
          "size": 5
         },
         "mode": "lines+markers",
         "type": "scatter3d",
         "x": [
          0,
          0.1038125316979078
         ],
         "y": [
          0,
          -0.0205659440962207
         ],
         "z": [
          0,
          0.3
         ]
        },
        {
         "line": {
          "color": "#2676b8",
          "width": 5
         },
         "marker": {
          "color": "#2676b8",
          "size": 5
         },
         "mode": "lines+markers",
         "type": "scatter3d",
         "x": [
          0,
          0.1038151412296727
         ],
         "y": [
          0,
          -0.0047345795794092
         ],
         "z": [
          0,
          0.3
         ]
        },
        {
         "line": {
          "color": "#2373b6",
          "width": 5
         },
         "marker": {
          "color": "#2373b6",
          "size": 5
         },
         "mode": "lines+markers",
         "type": "scatter3d",
         "x": [
          0,
          0.1014248601878419
         ],
         "y": [
          0,
          0.0106300303491365
         ],
         "z": [
          0,
          0.3
         ]
        },
        {
         "line": {
          "color": "#2070b4",
          "width": 5
         },
         "marker": {
          "color": "#2070b4",
          "size": 5
         },
         "mode": "lines+markers",
         "type": "scatter3d",
         "x": [
          0,
          0.0967807988051902
         ],
         "y": [
          0,
          0.0251689646370121
         ],
         "z": [
          0,
          0.3
         ]
        },
        {
         "line": {
          "color": "#1f6eb3",
          "width": 5
         },
         "marker": {
          "color": "#1f6eb3",
          "size": 5
         },
         "mode": "lines+markers",
         "type": "scatter3d",
         "x": [
          0,
          0.0900754309085222
         ],
         "y": [
          0,
          0.0385540730884641
         ],
         "z": [
          0,
          0.3
         ]
        },
        {
         "line": {
          "color": "#1c6bb0",
          "width": 5
         },
         "marker": {
          "color": "#1c6bb0",
          "size": 5
         },
         "mode": "lines+markers",
         "type": "scatter3d",
         "x": [
          0,
          0.0815485983726332
         ],
         "y": [
          0,
          0.050495801057345
         ],
         "z": [
          0,
          0.3
         ]
        },
        {
         "line": {
          "color": "#1b69af",
          "width": 5
         },
         "marker": {
          "color": "#1b69af",
          "size": 5
         },
         "mode": "lines+markers",
         "type": "scatter3d",
         "x": [
          0,
          0.0714803956984649
         ],
         "y": [
          0,
          0.0607499206456694
         ],
         "z": [
          0,
          0.3
         ]
        },
        {
         "line": {
          "color": "#1966ad",
          "width": 5
         },
         "marker": {
          "color": "#1966ad",
          "size": 5
         },
         "mode": "lines+markers",
         "type": "scatter3d",
         "x": [
          0,
          0.0601831258849777
         ],
         "y": [
          0,
          0.0691230149103945
         ],
         "z": [
          0,
          0.3
         ]
        },
        {
         "line": {
          "color": "#1764ab",
          "width": 5
         },
         "marker": {
          "color": "#1764ab",
          "size": 5
         },
         "mode": "lines+markers",
         "type": "scatter3d",
         "x": [
          0,
          0.047992540357388
         ],
         "y": [
          0,
          0.0754765916608565
         ],
         "z": [
          0,
          0.3
         ]
        },
        {
         "line": {
          "color": "#1561a9",
          "width": 5
         },
         "marker": {
          "color": "#1561a9",
          "size": 5
         },
         "mode": "lines+markers",
         "type": "scatter3d",
         "x": [
          0,
          0.035258594906927
         ],
         "y": [
          0,
          0.0797297392594119
         ],
         "z": [
          0,
          0.3
         ]
        },
        {
         "line": {
          "color": "#135fa7",
          "width": 5
         },
         "marker": {
          "color": "#135fa7",
          "size": 5
         },
         "mode": "lines+markers",
         "type": "scatter3d",
         "x": [
          0,
          0.0223359581897831
         ],
         "y": [
          0,
          0.0818602761551748
         ],
         "z": [
          0,
          0.3
         ]
        },
        {
         "line": {
          "color": "#115ca5",
          "width": 5
         },
         "marker": {
          "color": "#115ca5",
          "size": 5
         },
         "mode": "lines+markers",
         "type": "scatter3d",
         "x": [
          0,
          0.0095745227081143
         ],
         "y": [
          0,
          0.0819043854208947
         ],
         "z": [
          0,
          0.3
         ]
        },
        {
         "line": {
          "color": "#0e59a2",
          "width": 5
         },
         "marker": {
          "color": "#0e59a2",
          "size": 5
         },
         "mode": "lines+markers",
         "type": "scatter3d",
         "x": [
          0,
          -0.0026898434311897
         ],
         "y": [
          0,
          0.079954765964907
         ],
         "z": [
          0,
          0.3
         ]
        },
        {
         "line": {
          "color": "#0d57a1",
          "width": 5
         },
         "marker": {
          "color": "#0d57a1",
          "size": 5
         },
         "mode": "lines+markers",
         "type": "scatter3d",
         "x": [
          0,
          -0.0141440676491154
         ],
         "y": [
          0,
          0.0761573714023543
         ],
         "z": [
          0,
          0.3
         ]
        },
        {
         "line": {
          "color": "#0a549e",
          "width": 5
         },
         "marker": {
          "color": "#0a549e",
          "size": 5
         },
         "mode": "lines+markers",
         "type": "scatter3d",
         "x": [
          0,
          -0.0245059424893412
         ],
         "y": [
          0,
          0.0707068501055207
         ],
         "z": [
          0,
          0.3
         ]
        },
        {
         "line": {
          "color": "#09529d",
          "width": 5
         },
         "marker": {
          "color": "#09529d",
          "size": 5
         },
         "mode": "lines+markers",
         "type": "scatter3d",
         "x": [
          0,
          -0.0335312925826599
         ],
         "y": [
          0,
          0.0638408356052999
         ],
         "z": [
          0,
          0.3
         ]
        },
        {
         "line": {
          "color": "#084f99",
          "width": 5
         },
         "marker": {
          "color": "#084f99",
          "size": 5
         },
         "mode": "lines+markers",
         "type": "scatter3d",
         "x": [
          0,
          -0.0410200556269849
         ],
         "y": [
          0,
          0.0558332778770643
         ],
         "z": [
          0,
          0.3
         ]
        },
        {
         "line": {
          "color": "#084d96",
          "width": 5
         },
         "marker": {
          "color": "#084d96",
          "size": 5
         },
         "mode": "lines+markers",
         "type": "scatter3d",
         "x": [
          0,
          -0.0468211204552816
         ],
         "y": [
          0,
          0.0469870468601554
         ],
         "z": [
          0,
          0.3
         ]
        },
        {
         "line": {
          "color": "#084a91",
          "width": 5
         },
         "marker": {
          "color": "#084a91",
          "size": 5
         },
         "mode": "lines+markers",
         "type": "scatter3d",
         "x": [
          0,
          -0.0508357899209482
         ],
         "y": [
          0,
          0.0376260863284178
         ],
         "z": [
          0,
          0.3
         ]
        },
        {
         "line": {
          "color": "#08488e",
          "width": 5
         },
         "marker": {
          "color": "#08488e",
          "size": 5
         },
         "mode": "lines+markers",
         "type": "scatter3d",
         "x": [
          0,
          -0.0530197565728498
         ],
         "y": [
          0,
          0.0280874579318735
         ],
         "z": [
          0,
          0.3
         ]
        },
        {
         "line": {
          "color": "#08458a",
          "width": 5
         },
         "marker": {
          "color": "#08458a",
          "size": 5
         },
         "mode": "lines+markers",
         "type": "scatter3d",
         "x": [
          0,
          -0.0533834878386256
         ],
         "y": [
          0,
          0.018713715642697
         ],
         "z": [
          0,
          0.3
         ]
        },
        {
         "line": {
          "color": "#084285",
          "width": 5
         },
         "marker": {
          "color": "#084285",
          "size": 5
         },
         "mode": "lines+markers",
         "type": "scatter3d",
         "x": [
          0,
          -0.051990882385696
         ],
         "y": [
          0,
          0.0098462202248542
         ],
         "z": [
          0,
          0.3
         ]
        },
        {
         "line": {
          "color": "#084082",
          "width": 5
         },
         "marker": {
          "color": "#084082",
          "size": 5
         },
         "mode": "lines+markers",
         "type": "scatter3d",
         "x": [
          0,
          -0.0489559613793723
         ],
         "y": [
          0,
          0.0018203820202746
         ],
         "z": [
          0,
          0.3
         ]
        },
        {
         "line": {
          "color": "#083c7d",
          "width": 5
         },
         "marker": {
          "color": "#083c7d",
          "size": 5
         },
         "mode": "lines+markers",
         "type": "scatter3d",
         "x": [
          0,
          -0.044436980306049
         ],
         "y": [
          0,
          -0.005035346615707
         ],
         "z": [
          0,
          0.3
         ]
        },
        {
         "line": {
          "color": "#083a7a",
          "width": 5
         },
         "marker": {
          "color": "#083a7a",
          "size": 5
         },
         "mode": "lines+markers",
         "type": "scatter3d",
         "x": [
          0,
          -0.0386263109003485
         ],
         "y": [
          0,
          -0.0103926940886269
         ],
         "z": [
          0,
          0.3
         ]
        },
        {
         "line": {
          "color": "#083776",
          "width": 5
         },
         "marker": {
          "color": "#083776",
          "size": 5
         },
         "mode": "lines+markers",
         "type": "scatter3d",
         "x": [
          0,
          -0.0317307505590743
         ],
         "y": [
          0,
          -0.013898183376796
         ],
         "z": [
          0,
          0.3
         ]
        },
        {
         "line": {
          "color": "#083573",
          "width": 5
         },
         "marker": {
          "color": "#083573",
          "size": 5
         },
         "mode": "lines+markers",
         "type": "scatter3d",
         "x": [
          0,
          -0.0239213323828301
         ],
         "y": [
          0,
          -0.0150920453878242
         ],
         "z": [
          0,
          0.3
         ]
        },
        {
         "line": {
          "color": "#08326e",
          "width": 5
         },
         "marker": {
          "color": "#08326e",
          "size": 5
         },
         "mode": "lines+markers",
         "type": "scatter3d",
         "x": [
          0,
          -0.0151302426526621
         ],
         "y": [
          0,
          -0.0130795925722575
         ],
         "z": [
          0,
          0.3
         ]
        },
        {
         "line": {
          "color": "#08306b",
          "width": 5
         },
         "marker": {
          "color": "#08306b",
          "size": 5
         },
         "mode": "lines+markers",
         "type": "scatter3d",
         "x": [
          0,
          -0.0151302426526621
         ],
         "y": [
          0,
          -0.0130795925722575
         ],
         "z": [
          0,
          0.3
         ]
        },
        {
         "marker": {
          "color": "red",
          "size": 8
         },
         "mode": "markers",
         "name": "Origin",
         "type": "scatter3d",
         "x": [
          0
         ],
         "y": [
          0
         ],
         "z": [
          0
         ]
        }
       ],
       "layout": {
        "paper_bgcolor": "white",
        "plot_bgcolor": "white",
        "scene": {
         "xaxis": {
          "backgroundcolor": "black",
          "gridcolor": "white",
          "showbackground": true,
          "title": {
           "text": "Omega 1 (X)"
          }
         },
         "yaxis": {
          "backgroundcolor": "black",
          "gridcolor": "white",
          "showbackground": true,
          "title": {
           "text": "Omega 2 (Y)"
          }
         },
         "zaxis": {
          "backgroundcolor": "black",
          "gridcolor": "white",
          "showbackground": true,
          "title": {
           "text": "Omega 3 (Z)"
          }
         }
        },
        "template": {
         "data": {
          "bar": [
           {
            "error_x": {
             "color": "#2a3f5f"
            },
            "error_y": {
             "color": "#2a3f5f"
            },
            "marker": {
             "line": {
              "color": "#E5ECF6",
              "width": 0.5
             },
             "pattern": {
              "fillmode": "overlay",
              "size": 10,
              "solidity": 0.2
             }
            },
            "type": "bar"
           }
          ],
          "barpolar": [
           {
            "marker": {
             "line": {
              "color": "#E5ECF6",
              "width": 0.5
             },
             "pattern": {
              "fillmode": "overlay",
              "size": 10,
              "solidity": 0.2
             }
            },
            "type": "barpolar"
           }
          ],
          "carpet": [
           {
            "aaxis": {
             "endlinecolor": "#2a3f5f",
             "gridcolor": "white",
             "linecolor": "white",
             "minorgridcolor": "white",
             "startlinecolor": "#2a3f5f"
            },
            "baxis": {
             "endlinecolor": "#2a3f5f",
             "gridcolor": "white",
             "linecolor": "white",
             "minorgridcolor": "white",
             "startlinecolor": "#2a3f5f"
            },
            "type": "carpet"
           }
          ],
          "choropleth": [
           {
            "colorbar": {
             "outlinewidth": 0,
             "ticks": ""
            },
            "type": "choropleth"
           }
          ],
          "contour": [
           {
            "colorbar": {
             "outlinewidth": 0,
             "ticks": ""
            },
            "colorscale": [
             [
              0,
              "#0d0887"
             ],
             [
              0.1111111111111111,
              "#46039f"
             ],
             [
              0.2222222222222222,
              "#7201a8"
             ],
             [
              0.3333333333333333,
              "#9c179e"
             ],
             [
              0.4444444444444444,
              "#bd3786"
             ],
             [
              0.5555555555555556,
              "#d8576b"
             ],
             [
              0.6666666666666666,
              "#ed7953"
             ],
             [
              0.7777777777777778,
              "#fb9f3a"
             ],
             [
              0.8888888888888888,
              "#fdca26"
             ],
             [
              1,
              "#f0f921"
             ]
            ],
            "type": "contour"
           }
          ],
          "contourcarpet": [
           {
            "colorbar": {
             "outlinewidth": 0,
             "ticks": ""
            },
            "type": "contourcarpet"
           }
          ],
          "heatmap": [
           {
            "colorbar": {
             "outlinewidth": 0,
             "ticks": ""
            },
            "colorscale": [
             [
              0,
              "#0d0887"
             ],
             [
              0.1111111111111111,
              "#46039f"
             ],
             [
              0.2222222222222222,
              "#7201a8"
             ],
             [
              0.3333333333333333,
              "#9c179e"
             ],
             [
              0.4444444444444444,
              "#bd3786"
             ],
             [
              0.5555555555555556,
              "#d8576b"
             ],
             [
              0.6666666666666666,
              "#ed7953"
             ],
             [
              0.7777777777777778,
              "#fb9f3a"
             ],
             [
              0.8888888888888888,
              "#fdca26"
             ],
             [
              1,
              "#f0f921"
             ]
            ],
            "type": "heatmap"
           }
          ],
          "heatmapgl": [
           {
            "colorbar": {
             "outlinewidth": 0,
             "ticks": ""
            },
            "colorscale": [
             [
              0,
              "#0d0887"
             ],
             [
              0.1111111111111111,
              "#46039f"
             ],
             [
              0.2222222222222222,
              "#7201a8"
             ],
             [
              0.3333333333333333,
              "#9c179e"
             ],
             [
              0.4444444444444444,
              "#bd3786"
             ],
             [
              0.5555555555555556,
              "#d8576b"
             ],
             [
              0.6666666666666666,
              "#ed7953"
             ],
             [
              0.7777777777777778,
              "#fb9f3a"
             ],
             [
              0.8888888888888888,
              "#fdca26"
             ],
             [
              1,
              "#f0f921"
             ]
            ],
            "type": "heatmapgl"
           }
          ],
          "histogram": [
           {
            "marker": {
             "pattern": {
              "fillmode": "overlay",
              "size": 10,
              "solidity": 0.2
             }
            },
            "type": "histogram"
           }
          ],
          "histogram2d": [
           {
            "colorbar": {
             "outlinewidth": 0,
             "ticks": ""
            },
            "colorscale": [
             [
              0,
              "#0d0887"
             ],
             [
              0.1111111111111111,
              "#46039f"
             ],
             [
              0.2222222222222222,
              "#7201a8"
             ],
             [
              0.3333333333333333,
              "#9c179e"
             ],
             [
              0.4444444444444444,
              "#bd3786"
             ],
             [
              0.5555555555555556,
              "#d8576b"
             ],
             [
              0.6666666666666666,
              "#ed7953"
             ],
             [
              0.7777777777777778,
              "#fb9f3a"
             ],
             [
              0.8888888888888888,
              "#fdca26"
             ],
             [
              1,
              "#f0f921"
             ]
            ],
            "type": "histogram2d"
           }
          ],
          "histogram2dcontour": [
           {
            "colorbar": {
             "outlinewidth": 0,
             "ticks": ""
            },
            "colorscale": [
             [
              0,
              "#0d0887"
             ],
             [
              0.1111111111111111,
              "#46039f"
             ],
             [
              0.2222222222222222,
              "#7201a8"
             ],
             [
              0.3333333333333333,
              "#9c179e"
             ],
             [
              0.4444444444444444,
              "#bd3786"
             ],
             [
              0.5555555555555556,
              "#d8576b"
             ],
             [
              0.6666666666666666,
              "#ed7953"
             ],
             [
              0.7777777777777778,
              "#fb9f3a"
             ],
             [
              0.8888888888888888,
              "#fdca26"
             ],
             [
              1,
              "#f0f921"
             ]
            ],
            "type": "histogram2dcontour"
           }
          ],
          "mesh3d": [
           {
            "colorbar": {
             "outlinewidth": 0,
             "ticks": ""
            },
            "type": "mesh3d"
           }
          ],
          "parcoords": [
           {
            "line": {
             "colorbar": {
              "outlinewidth": 0,
              "ticks": ""
             }
            },
            "type": "parcoords"
           }
          ],
          "pie": [
           {
            "automargin": true,
            "type": "pie"
           }
          ],
          "scatter": [
           {
            "fillpattern": {
             "fillmode": "overlay",
             "size": 10,
             "solidity": 0.2
            },
            "type": "scatter"
           }
          ],
          "scatter3d": [
           {
            "line": {
             "colorbar": {
              "outlinewidth": 0,
              "ticks": ""
             }
            },
            "marker": {
             "colorbar": {
              "outlinewidth": 0,
              "ticks": ""
             }
            },
            "type": "scatter3d"
           }
          ],
          "scattercarpet": [
           {
            "marker": {
             "colorbar": {
              "outlinewidth": 0,
              "ticks": ""
             }
            },
            "type": "scattercarpet"
           }
          ],
          "scattergeo": [
           {
            "marker": {
             "colorbar": {
              "outlinewidth": 0,
              "ticks": ""
             }
            },
            "type": "scattergeo"
           }
          ],
          "scattergl": [
           {
            "marker": {
             "colorbar": {
              "outlinewidth": 0,
              "ticks": ""
             }
            },
            "type": "scattergl"
           }
          ],
          "scattermapbox": [
           {
            "marker": {
             "colorbar": {
              "outlinewidth": 0,
              "ticks": ""
             }
            },
            "type": "scattermapbox"
           }
          ],
          "scatterpolar": [
           {
            "marker": {
             "colorbar": {
              "outlinewidth": 0,
              "ticks": ""
             }
            },
            "type": "scatterpolar"
           }
          ],
          "scatterpolargl": [
           {
            "marker": {
             "colorbar": {
              "outlinewidth": 0,
              "ticks": ""
             }
            },
            "type": "scatterpolargl"
           }
          ],
          "scatterternary": [
           {
            "marker": {
             "colorbar": {
              "outlinewidth": 0,
              "ticks": ""
             }
            },
            "type": "scatterternary"
           }
          ],
          "surface": [
           {
            "colorbar": {
             "outlinewidth": 0,
             "ticks": ""
            },
            "colorscale": [
             [
              0,
              "#0d0887"
             ],
             [
              0.1111111111111111,
              "#46039f"
             ],
             [
              0.2222222222222222,
              "#7201a8"
             ],
             [
              0.3333333333333333,
              "#9c179e"
             ],
             [
              0.4444444444444444,
              "#bd3786"
             ],
             [
              0.5555555555555556,
              "#d8576b"
             ],
             [
              0.6666666666666666,
              "#ed7953"
             ],
             [
              0.7777777777777778,
              "#fb9f3a"
             ],
             [
              0.8888888888888888,
              "#fdca26"
             ],
             [
              1,
              "#f0f921"
             ]
            ],
            "type": "surface"
           }
          ],
          "table": [
           {
            "cells": {
             "fill": {
              "color": "#EBF0F8"
             },
             "line": {
              "color": "white"
             }
            },
            "header": {
             "fill": {
              "color": "#C8D4E3"
             },
             "line": {
              "color": "white"
             }
            },
            "type": "table"
           }
          ]
         },
         "layout": {
          "annotationdefaults": {
           "arrowcolor": "#2a3f5f",
           "arrowhead": 0,
           "arrowwidth": 1
          },
          "autotypenumbers": "strict",
          "coloraxis": {
           "colorbar": {
            "outlinewidth": 0,
            "ticks": ""
           }
          },
          "colorscale": {
           "diverging": [
            [
             0,
             "#8e0152"
            ],
            [
             0.1,
             "#c51b7d"
            ],
            [
             0.2,
             "#de77ae"
            ],
            [
             0.3,
             "#f1b6da"
            ],
            [
             0.4,
             "#fde0ef"
            ],
            [
             0.5,
             "#f7f7f7"
            ],
            [
             0.6,
             "#e6f5d0"
            ],
            [
             0.7,
             "#b8e186"
            ],
            [
             0.8,
             "#7fbc41"
            ],
            [
             0.9,
             "#4d9221"
            ],
            [
             1,
             "#276419"
            ]
           ],
           "sequential": [
            [
             0,
             "#0d0887"
            ],
            [
             0.1111111111111111,
             "#46039f"
            ],
            [
             0.2222222222222222,
             "#7201a8"
            ],
            [
             0.3333333333333333,
             "#9c179e"
            ],
            [
             0.4444444444444444,
             "#bd3786"
            ],
            [
             0.5555555555555556,
             "#d8576b"
            ],
            [
             0.6666666666666666,
             "#ed7953"
            ],
            [
             0.7777777777777778,
             "#fb9f3a"
            ],
            [
             0.8888888888888888,
             "#fdca26"
            ],
            [
             1,
             "#f0f921"
            ]
           ],
           "sequentialminus": [
            [
             0,
             "#0d0887"
            ],
            [
             0.1111111111111111,
             "#46039f"
            ],
            [
             0.2222222222222222,
             "#7201a8"
            ],
            [
             0.3333333333333333,
             "#9c179e"
            ],
            [
             0.4444444444444444,
             "#bd3786"
            ],
            [
             0.5555555555555556,
             "#d8576b"
            ],
            [
             0.6666666666666666,
             "#ed7953"
            ],
            [
             0.7777777777777778,
             "#fb9f3a"
            ],
            [
             0.8888888888888888,
             "#fdca26"
            ],
            [
             1,
             "#f0f921"
            ]
           ]
          },
          "colorway": [
           "#636efa",
           "#EF553B",
           "#00cc96",
           "#ab63fa",
           "#FFA15A",
           "#19d3f3",
           "#FF6692",
           "#B6E880",
           "#FF97FF",
           "#FECB52"
          ],
          "font": {
           "color": "#2a3f5f"
          },
          "geo": {
           "bgcolor": "white",
           "lakecolor": "white",
           "landcolor": "#E5ECF6",
           "showlakes": true,
           "showland": true,
           "subunitcolor": "white"
          },
          "hoverlabel": {
           "align": "left"
          },
          "hovermode": "closest",
          "mapbox": {
           "style": "light"
          },
          "paper_bgcolor": "white",
          "plot_bgcolor": "#E5ECF6",
          "polar": {
           "angularaxis": {
            "gridcolor": "white",
            "linecolor": "white",
            "ticks": ""
           },
           "bgcolor": "#E5ECF6",
           "radialaxis": {
            "gridcolor": "white",
            "linecolor": "white",
            "ticks": ""
           }
          },
          "scene": {
           "xaxis": {
            "backgroundcolor": "#E5ECF6",
            "gridcolor": "white",
            "gridwidth": 2,
            "linecolor": "white",
            "showbackground": true,
            "ticks": "",
            "zerolinecolor": "white"
           },
           "yaxis": {
            "backgroundcolor": "#E5ECF6",
            "gridcolor": "white",
            "gridwidth": 2,
            "linecolor": "white",
            "showbackground": true,
            "ticks": "",
            "zerolinecolor": "white"
           },
           "zaxis": {
            "backgroundcolor": "#E5ECF6",
            "gridcolor": "white",
            "gridwidth": 2,
            "linecolor": "white",
            "showbackground": true,
            "ticks": "",
            "zerolinecolor": "white"
           }
          },
          "shapedefaults": {
           "line": {
            "color": "#2a3f5f"
           }
          },
          "ternary": {
           "aaxis": {
            "gridcolor": "white",
            "linecolor": "white",
            "ticks": ""
           },
           "baxis": {
            "gridcolor": "white",
            "linecolor": "white",
            "ticks": ""
           },
           "bgcolor": "#E5ECF6",
           "caxis": {
            "gridcolor": "white",
            "linecolor": "white",
            "ticks": ""
           }
          },
          "title": {
           "x": 0.05
          },
          "xaxis": {
           "automargin": true,
           "gridcolor": "white",
           "linecolor": "white",
           "ticks": "",
           "title": {
            "standoff": 15
           },
           "zerolinecolor": "white",
           "zerolinewidth": 2
          },
          "yaxis": {
           "automargin": true,
           "gridcolor": "white",
           "linecolor": "white",
           "ticks": "",
           "title": {
            "standoff": 15
           },
           "zerolinecolor": "white",
           "zerolinewidth": 2
          }
         }
        },
        "title": {
         "text": "3D Vectors from t=0 to t=100"
        }
       }
      }
     },
     "metadata": {},
     "output_type": "display_data"
    }
   ],
   "source": [
    "import pandas as pd\n",
    "import numpy as np\n",
    "import plotly.graph_objects as go\n",
    "import matplotlib.pyplot as plt\n",
    "from matplotlib.colors import to_hex\n",
    "\n",
    "# Load data from CSV file\n",
    "data = pd.read_csv('results.csv')\n",
    "omega1 = data['omega1'].values  \n",
    "omega2 = data['omega2'].values\n",
    "omega3 = data['omega3'].values\n",
    "t = data['t'].values\n",
    "\n",
    "def interpolator(t_val):\n",
    "    omega1_interp = np.interp(t_val, t, omega1)\n",
    "    omega2_interp = np.interp(t_val, t, omega2)\n",
    "    omega3_interp = np.interp(t_val, t, omega3)\n",
    "    return omega1_interp, omega2_interp, omega3_interp\n",
    "\n",
    "# Create a Plotly figure\n",
    "fig = go.Figure()\n",
    "\n",
    "# Generate a gradient of colors from dark blue to light blue\n",
    "colors = [to_hex(plt.cm.Blues(i / 100)) for i in range(101)]\n",
    "\n",
    "# Loop through t_val from 0 to 100 and plot every vector\n",
    "for t_val in range(101):\n",
    "    omega1_interp, omega2_interp, omega3_interp = interpolator(t_val)\n",
    "\n",
    "    # Create a 3D vector from the interpolated values\n",
    "    vector = np.array([omega1_interp, omega2_interp, omega3_interp])\n",
    "\n",
    "    # Add a 3D scatter plot for the vector\n",
    "    fig.add_trace(go.Scatter3d(\n",
    "        x=[0, vector[0]], \n",
    "        y=[0, vector[1]], \n",
    "        z=[0, vector[2]], \n",
    "        mode='lines+markers',\n",
    "        line=dict(color=colors[t_val], width=5),\n",
    "        marker=dict(size=5, color=colors[t_val])\n",
    "    ))\n",
    "\n",
    "# Add the origin point in red\n",
    "fig.add_trace(go.Scatter3d(\n",
    "    x=[0], \n",
    "    y=[0], \n",
    "    z=[0], \n",
    "    mode='markers',\n",
    "    marker=dict(size=8, color='red'),\n",
    "    name='Origin'\n",
    "))\n",
    "\n",
    "# Set the layout of the plot with a beige background for the 3D scene\n",
    "fig.update_layout(\n",
    "    scene=dict(\n",
    "        xaxis=dict(\n",
    "            title='Omega 1 (X)',\n",
    "            backgroundcolor='black',\n",
    "            gridcolor='white',\n",
    "            showbackground=True\n",
    "        ),\n",
    "        yaxis=dict(\n",
    "            title='Omega 2 (Y)',\n",
    "            backgroundcolor='black',\n",
    "            gridcolor='white',\n",
    "            showbackground=True\n",
    "        ),\n",
    "        zaxis=dict(\n",
    "            title='Omega 3 (Z)',\n",
    "            backgroundcolor='black',\n",
    "            gridcolor='white',\n",
    "            showbackground=True\n",
    "        )\n",
    "    ),\n",
    "    title='3D Vectors from t=0 to t=100',\n",
    "    paper_bgcolor='white',  # Set the outer background color to white\n",
    "    plot_bgcolor='white'    # Set the inner background color to white\n",
    ")\n",
    "\n",
    "# Show the plot\n",
    "fig.show()\n"
   ]
  },
  {
   "cell_type": "code",
   "execution_count": null,
   "metadata": {},
   "outputs": [],
   "source": []
  }
 ],
 "metadata": {
  "kernelspec": {
   "display_name": "base",
   "language": "python",
   "name": "python3"
  },
  "language_info": {
   "codemirror_mode": {
    "name": "ipython",
    "version": 3
   },
   "file_extension": ".py",
   "mimetype": "text/x-python",
   "name": "python",
   "nbconvert_exporter": "python",
   "pygments_lexer": "ipython3",
   "version": "3.11.7"
  }
 },
 "nbformat": 4,
 "nbformat_minor": 2
}
